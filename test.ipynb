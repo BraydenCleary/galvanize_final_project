{
 "cells": [
  {
   "cell_type": "code",
   "execution_count": 1,
   "metadata": {
    "collapsed": true
   },
   "outputs": [],
   "source": [
    "import pandas as pd"
   ]
  },
  {
   "cell_type": "code",
   "execution_count": 9,
   "metadata": {},
   "outputs": [],
   "source": [
    "df = pd.read_csv('campgrounds.txt', header=None)"
   ]
  },
  {
   "cell_type": "code",
   "execution_count": 14,
   "metadata": {},
   "outputs": [
    {
     "data": {
      "text/plain": [
       "array(['created_at', 'bookable', 'weeknight_price_percentage', 'overview',\n",
       "       'seo_description', 'display_title', 'updated_at', 'phone',\n",
       "       'visible', 'asleep', 'faves', 'full_name', 'timezone',\n",
       "       'county_code', 'lng', 'id', 'state_name', 'bookability',\n",
       "       'default_accommodation', 'park_slug', 'booking_window_in_months',\n",
       "       'host_referral_source_id', 'base_capacity', 'tip', 'seo_title',\n",
       "       'short_overview', 'is_instant_bookable', 'image_carousel_small_url',\n",
       "       'geo_boundary_multi', 'listing_referral_source_id', 'park_name',\n",
       "       'booking_url', 'geo_boundary', 'hipbook', 'official_url',\n",
       "       'cover_photo_id', 'short_name', 'recommends_count', 'tips_count',\n",
       "       'price_per_night', 'recommends_percentage', 'park_url',\n",
       "       'inventory_source_details', 'additional_camper_fee_per_night',\n",
       "       'state_id', 'lat', 'inventory_source', 'active', 'slug',\n",
       "       'went_active_at', 'state_slug', 'inventory_outlet', 'name',\n",
       "       'reservation_type', 'favorites_count', 'campground_url',\n",
       "       'max_capacity', 'thumbnail_url', 'image_url', 'deleted',\n",
       "       'listing_referral_source_print', 'call_me_maybe', 'import_source',\n",
       "       'listing_referral_source_other',\n",
       "       'top_level_host_referral_source_id', 'geo_center', 'history'], dtype=object)"
      ]
     },
     "execution_count": 14,
     "metadata": {},
     "output_type": "execute_result"
    }
   ],
   "source": [
    "df[0].unique()"
   ]
  },
  {
   "cell_type": "code",
   "execution_count": null,
   "metadata": {
    "collapsed": true
   },
   "outputs": [],
   "source": []
  }
 ],
 "metadata": {
  "kernelspec": {
   "display_name": "Python 2",
   "language": "python",
   "name": "python2"
  },
  "language_info": {
   "codemirror_mode": {
    "name": "ipython",
    "version": 2
   },
   "file_extension": ".py",
   "mimetype": "text/x-python",
   "name": "python",
   "nbconvert_exporter": "python",
   "pygments_lexer": "ipython2",
   "version": "2.7.13"
  }
 },
 "nbformat": 4,
 "nbformat_minor": 2
}
